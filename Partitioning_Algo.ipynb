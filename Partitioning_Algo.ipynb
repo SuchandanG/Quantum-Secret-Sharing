{
  "nbformat": 4,
  "nbformat_minor": 0,
  "metadata": {
    "colab": {
      "provenance": [],
      "authorship_tag": "ABX9TyPQzJqshlwysmX7sEau9EYW",
      "include_colab_link": true
    },
    "kernelspec": {
      "name": "python3",
      "display_name": "Python 3"
    },
    "language_info": {
      "name": "python"
    }
  },
  "cells": [
    {
      "cell_type": "markdown",
      "metadata": {
        "id": "view-in-github",
        "colab_type": "text"
      },
      "source": [
        "<a href=\"https://colab.research.google.com/github/SuchandanG/Quantum-Secret-Sharing/blob/main/Partitioning_Algo.ipynb\" target=\"_parent\"><img src=\"https://colab.research.google.com/assets/colab-badge.svg\" alt=\"Open In Colab\"/></a>"
      ]
    },
    {
      "cell_type": "code",
      "execution_count": null,
      "metadata": {
        "colab": {
          "base_uri": "https://localhost:8080/"
        },
        "id": "HAr5Q7I4yORZ",
        "outputId": "df537312-e418-490e-dd6a-de61387773f6"
      },
      "outputs": [
        {
          "output_type": "stream",
          "name": "stdout",
          "text": [
            "{1, 2}\n"
          ]
        },
        {
          "output_type": "execute_result",
          "data": {
            "text/plain": [
              "[[{1, 2, 3}, {1, 2, 4}, {1, 2, 5, 6}]]"
            ]
          },
          "metadata": {},
          "execution_count": 3
        }
      ],
      "source": [
        "from collections import Counter\n",
        "\n",
        "def compute_mu_E(Gamma_0, n):\n",
        "    \"\"\"Compute essentialness measure μ_E for each participant.\"\"\"\n",
        "    mu_E = Counter()\n",
        "    for subset in Gamma_0:\n",
        "        for participant in subset:\n",
        "            mu_E[participant] += 1\n",
        "    for i in range(1, n + 1):\n",
        "        mu_E[i] += 0  # Ensure all participants appear\n",
        "    return mu_E\n",
        "\n",
        "def partition_gamma(Gamma_0, n):\n",
        "    partitions = []\n",
        "    Gamma_0 = [set(g) for g in Gamma_0]  # Ensure input is in set format\n",
        "    j = 1\n",
        "\n",
        "    while len(Gamma_0) > 2:\n",
        "        mu_E = compute_mu_E(Gamma_0, n)\n",
        "        min_mu = min(mu_E.values())\n",
        "        S_E = {p for p in mu_E if mu_E[p] > min_mu}  # exclude strictly minimal\n",
        "        print(S_E)\n",
        "        while True:\n",
        "            if not S_E:\n",
        "                partitions.append(Gamma_0.copy())\n",
        "                return partitions\n",
        "\n",
        "            Gamma_prime = [g for g in Gamma_0 if S_E.issubset(g)]\n",
        "\n",
        "            if len(Gamma_prime) == 0:  # Case (i)\n",
        "                # Remove a participant with minimal μ_E from S_E\n",
        "                min_S_E = min(mu_E[p] for p in S_E)\n",
        "                for p in list(S_E):\n",
        "                    if mu_E[p] == min_S_E:\n",
        "                        S_E.remove(p)\n",
        "                        break\n",
        "            elif len(Gamma_prime) == 1:  # Case (ii)\n",
        "                min_S_E = min(mu_E[p] for p in S_E)\n",
        "                for p in list(S_E):\n",
        "                    if mu_E[p] == min_S_E:\n",
        "                        S_E.remove(p)\n",
        "                        break\n",
        "            else:  # Case (iii)\n",
        "                Gamma_0j = Gamma_prime.copy()\n",
        "                # Check near-disjointness (at most one overlapping pair)\n",
        "                def target_set(g): return g - S_E\n",
        "                overlaps = 0\n",
        "                for i in range(len(Gamma_0j)):\n",
        "                    for k in range(i + 1, len(Gamma_0j)):\n",
        "                        if target_set(Gamma_0j[i]) & target_set(Gamma_0j[k]):\n",
        "                            overlaps += 1\n",
        "                if overlaps <= 1:\n",
        "                    partitions.append(Gamma_0j)\n",
        "                else:\n",
        "                    # Remove sets greedily to ensure near-disjointness\n",
        "                    while overlaps > 1 and Gamma_0j:\n",
        "                        Gamma_0j.pop()\n",
        "                        overlaps = 0\n",
        "                        for i in range(len(Gamma_0j)):\n",
        "                            for k in range(i + 1, len(Gamma_0j)):\n",
        "                                if target_set(Gamma_0j[i]) & target_set(Gamma_0j[k]):\n",
        "                                    overlaps += 1\n",
        "                    partitions.append(Gamma_0j)\n",
        "                # Update Gamma_0\n",
        "                Gamma_0 = [g for g in Gamma_0 if g not in Gamma_0j]\n",
        "                break\n",
        "    if Gamma_0:\n",
        "        partitions.append(Gamma_0)\n",
        "    return partitions\n",
        "\n",
        "# Input\n",
        "Gamma_0_input = [{1, 2, 3}, {1, 2, 4}, {1, 2, 5, 6}]\n",
        "n_participants = 6\n",
        "\n",
        "# Run algorithm\n",
        "partitions_result = partition_gamma(Gamma_0_input, n_participants)\n",
        "partitions_result"
      ]
    }
  ]
}